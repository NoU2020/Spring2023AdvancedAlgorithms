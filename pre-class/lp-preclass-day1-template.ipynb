{
 "cells": [
  {
   "cell_type": "markdown",
   "metadata": {},
   "source": [
    "# LP Pre-Class Day 1: Using Libraries\n",
    "\n",
    "In the Jupyter notebook, follow [Quick start — Python-MIP documentation](https://docs.python-mip.com/en/latest/quickstart.html) to solve the given problem using the Python Mixed Integer Programming library. Check your solution against the given optimal solution.\n",
    "\n",
    "```\n",
    "max z = 5x_1 + 4x_2 + 3x_3  \n",
    "subject to:  \n",
    "    2x_1 + 3x_2 + 1x_3 <= 5  \n",
    "    4x_1 + 1x_2 + 2x_3 <= 11  \n",
    "    3x_1 + 4x_2 + 2x_3 <= 8  \n",
    "    x_1 >= 0  \n",
    "    x_2 >= 0  \n",
    "    x_3 >= 0  \n",
    "```\n",
    "```\n",
    "optimal solution:  \n",
    "    z=13,  \n",
    "    x_1 = 2,  \n",
    "    x_2 = 0,  \n",
    "    x_3 =1\n",
    "```  "
   ]
  },
  {
   "cell_type": "markdown",
   "metadata": {},
   "source": [
    "## Install the `mip` library\n",
    "\n",
    "Python-MIP requires Python 3.5 or newer."
   ]
  },
  {
   "cell_type": "code",
   "execution_count": 4,
   "metadata": {},
   "outputs": [
    {
     "name": "stdout",
     "output_type": "stream",
     "text": [
      "Defaulting to user installation because normal site-packages is not writeable\n",
      "Collecting mip\n",
      "  Downloading mip-1.15.0-py3-none-any.whl (15.3 MB)\n",
      "\u001b[2K     \u001b[90m━━━━━━━━━━━━━━━━━━━━━━━━━━━━━━━━━━━━━━━━\u001b[0m \u001b[32m15.3/15.3 MB\u001b[0m \u001b[31m19.3 MB/s\u001b[0m eta \u001b[36m0:00:00\u001b[0m00:01\u001b[0m00:01\u001b[0m\n",
      "\u001b[?25hCollecting cffi==1.15.*\n",
      "  Downloading cffi-1.15.1-cp310-cp310-manylinux_2_17_x86_64.manylinux2014_x86_64.whl (441 kB)\n",
      "\u001b[2K     \u001b[90m━━━━━━━━━━━━━━━━━━━━━━━━━━━━━━━━━━━━━━\u001b[0m \u001b[32m441.8/441.8 KB\u001b[0m \u001b[31m16.9 MB/s\u001b[0m eta \u001b[36m0:00:00\u001b[0m\n",
      "\u001b[?25hCollecting pycparser\n",
      "  Downloading pycparser-2.21-py2.py3-none-any.whl (118 kB)\n",
      "\u001b[2K     \u001b[90m━━━━━━━━━━━━━━━━━━━━━━━━━━━━━━━━━━━━━━\u001b[0m \u001b[32m118.7/118.7 KB\u001b[0m \u001b[31m12.9 MB/s\u001b[0m eta \u001b[36m0:00:00\u001b[0m\n",
      "\u001b[?25hInstalling collected packages: pycparser, cffi, mip\n",
      "Successfully installed cffi-1.15.1 mip-1.15.0 pycparser-2.21\n"
     ]
    }
   ],
   "source": [
    "# uncomment if you use pip\n",
    "!pip install mip"
   ]
  },
  {
   "cell_type": "markdown",
   "metadata": {},
   "source": [
    "# Follow Quick Start\n",
    "Long link: https://docs.python-mip.com/en/latest/quickstart.html\n",
    "\n",
    "Fill in code wherever there is a `#TODO` .   \n",
    "You will have to write 6 lines of code :)"
   ]
  },
  {
   "cell_type": "code",
   "execution_count": 8,
   "metadata": {},
   "outputs": [],
   "source": [
    "from mip import *"
   ]
  },
  {
   "cell_type": "code",
   "execution_count": 6,
   "metadata": {},
   "outputs": [],
   "source": [
    "# create an empty model with default settings\n",
    "m = Model()\n",
    "\n",
    "# create vector of 3 decision variables and add them to the model\n",
    "n = 3\n",
    "x = [m.add_var(var_type=CONTINUOUS) for i in range(n)]"
   ]
  },
  {
   "cell_type": "code",
   "execution_count": 13,
   "metadata": {},
   "outputs": [],
   "source": [
    "# add constraints to the model\n",
    "m += 2 * x[0] + 3 * x[1] + x[2] <= 5\n",
    "\n",
    "# add remaining 5 constraints to the model\n",
    "# TODO\n",
    "m += 4 * x[0] + x[1] + 2 * x[2] <= 11\n",
    "m += 3 * x[0] + 4 * x[1] + 2 * x[2]<=8\n",
    "m += x[0]>=0\n",
    "m += x[1]>=0\n",
    "m += x[2]>=0\n",
    "\n",
    "# add objective function to model\n",
    "# TODO\n",
    "z=5*x[0] + 4*x[1] + 3*x[2]\n",
    "m.objective = maximize(z)\n"
   ]
  },
  {
   "cell_type": "code",
   "execution_count": 14,
   "metadata": {},
   "outputs": [
    {
     "name": "stdout",
     "output_type": "stream",
     "text": [
      "Starting solution of the Linear programming problem using Primal Simplex\n",
      "\n",
      "Clp0006I 0  Obj 12 Dual inf 0.499999 (1)\n",
      "Clp0014I Perturbing problem by 0.001% of 2.0916767 - largest nonzero change 1.5914428e-05 ( 0.00053048095%) - largest zero change 2.0623556e-05\n",
      "Clp0000I Optimal - objective value 13\n"
     ]
    },
    {
     "data": {
      "text/plain": [
       "<OptimizationStatus.OPTIMAL: 0>"
      ]
     },
     "execution_count": 14,
     "metadata": {},
     "output_type": "execute_result"
    }
   ],
   "source": [
    "# optimize\n",
    "m.optimize(max_seconds=300)"
   ]
  },
  {
   "cell_type": "code",
   "execution_count": 15,
   "metadata": {},
   "outputs": [
    {
     "name": "stdout",
     "output_type": "stream",
     "text": [
      "Clp0000I Optimal - objective value 13\n",
      "optimal solution cost 12.999999999999998 found\n",
      "solution:\n",
      "var(0) : 2.0\n",
      "var(2) : 0.9999999999999996\n"
     ]
    }
   ],
   "source": [
    "# show results\n",
    "status = m.optimize(max_seconds=300)\n",
    "if status == OptimizationStatus.OPTIMAL:\n",
    "    print('optimal solution cost {} found'.format(m.objective_value))\n",
    "elif status == OptimizationStatus.FEASIBLE:\n",
    "    print('sol.cost {} found, best possible: {}'.format(m.objective_value, m.objective_bound))\n",
    "elif status == OptimizationStatus.NO_SOLUTION_FOUND:\n",
    "    print('no feasible solution found, lower bound is: {}'.format(m.objective_bound))\n",
    "if status == OptimizationStatus.OPTIMAL or status == OptimizationStatus.FEASIBLE:\n",
    "    print('solution:')\n",
    "    for v in m.vars:\n",
    "       if abs(v.x) > 1e-6: # only printing non-zeros\n",
    "          print('{} : {}'.format(v.name, v.x))\n"
   ]
  }
 ],
 "metadata": {
  "kernelspec": {
   "display_name": "Python 3",
   "language": "python",
   "name": "python3"
  },
  "language_info": {
   "codemirror_mode": {
    "name": "ipython",
    "version": 3
   },
   "file_extension": ".py",
   "mimetype": "text/x-python",
   "name": "python",
   "nbconvert_exporter": "python",
   "pygments_lexer": "ipython3",
   "version": "3.10.6"
  },
  "orig_nbformat": 4,
  "vscode": {
   "interpreter": {
    "hash": "916dbcbb3f70747c44a77c7bcd40155683ae19c65e1c03b4aa3499c5328201f1"
   }
  }
 },
 "nbformat": 4,
 "nbformat_minor": 2
}
